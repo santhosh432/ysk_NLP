{
 "cells": [
  {
   "cell_type": "code",
   "execution_count": 6,
   "metadata": {
    "id": "uB0BxhXdPZYB"
   },
   "outputs": [],
   "source": [
    "from sklearn.datasets import fetch_20newsgroups\n",
    "newsgroups_train = fetch_20newsgroups(subset='train')\n",
    "newsgroups_test = fetch_20newsgroups(subset='test')"
   ]
  },
  {
   "cell_type": "code",
   "execution_count": 8,
   "metadata": {
    "colab": {
     "base_uri": "https://localhost:8080/"
    },
    "id": "4nl_0X2OPkwj",
    "outputId": "df19d017-feec-4212-be24-a246bc14602c"
   },
   "outputs": [
    {
     "name": "stdout",
     "output_type": "stream",
     "text": [
      "List of all 20 categories:\n",
      "['alt.atheism', 'comp.graphics', 'comp.os.ms-windows.misc', 'comp.sys.ibm.pc.hardware', 'comp.sys.mac.hardware', 'comp.windows.x', 'misc.forsale', 'rec.autos', 'rec.motorcycles', 'rec.sport.baseball', 'rec.sport.hockey', 'sci.crypt', 'sci.electronics', 'sci.med', 'sci.space', 'soc.religion.christian', 'talk.politics.guns', 'talk.politics.mideast', 'talk.politics.misc', 'talk.religion.misc']\n"
     ]
    }
   ],
   "source": [
    "x_train = newsgroups_train.data\n",
    "x_test = newsgroups_test.data\n",
    "\n",
    "\n",
    "y_train = newsgroups_train.target\n",
    "y_test = newsgroups_test.target\n",
    "\n",
    "\n",
    "print (\"List of all 20 categories:\")\n",
    "print (newsgroups_train.target_names)"
   ]
  },
  {
   "cell_type": "code",
   "execution_count": 12,
   "metadata": {
    "colab": {
     "base_uri": "https://localhost:8080/"
    },
    "id": "IlXgaZMOVvtB",
    "outputId": "6b478dfb-5ca1-4e96-9074-03337864fd5c"
   },
   "outputs": [
    {
     "name": "stdout",
     "output_type": "stream",
     "text": [
      "\n",
      "\n",
      "Sample Email:\n",
      "From: lerxst@wam.umd.edu (where's my thing)\n",
      "Subject: WHAT car is this!?\n",
      "Nntp-Posting-Host: rac3.wam.umd.edu\n",
      "Organization: University of Maryland, College Park\n",
      "Lines: 15\n",
      "\n",
      " I was wondering if anyone out there could enlighten me on this car I saw\n",
      "the other day. It was a 2-door sports car, looked to be from the late 60s/\n",
      "early 70s. It was called a Bricklin. The doors were really small. In addition,\n",
      "the front bumper was separate from the rest of the body. This is \n",
      "all I know. If anyone can tellme a model name, engine specs, years\n",
      "of production, where this car is made, history, or whatever info you\n",
      "have on this funky looking car, please e-mail.\n",
      "\n",
      "Thanks,\n",
      "- IL\n",
      "   ---- brought to you by your neighborhood Lerxst ----\n",
      "\n",
      "\n",
      "\n",
      "\n",
      "\n",
      "y_train:- 7\n"
     ]
    }
   ],
   "source": [
    "print (\"\\n\")\n",
    "print (\"Sample Email:\")\n",
    "print (x_train[0])\n",
    "print('y_train:-',y_train[0])"
   ]
  },
  {
   "cell_type": "code",
   "execution_count": 13,
   "metadata": {
    "colab": {
     "base_uri": "https://localhost:8080/"
    },
    "id": "j2qtnYJwPx1X",
    "outputId": "1ef25386-2140-4e62-84dd-33782307b317"
   },
   "outputs": [
    {
     "name": "stdout",
     "output_type": "stream",
     "text": [
      "Sample Target Category:\n",
      "7\n",
      "rec.autos\n"
     ]
    }
   ],
   "source": [
    "print (\"Sample Target Category:\")\n",
    "print (y_train[0])\n",
    "print (newsgroups_train.target_names[y_train[0]])"
   ]
  },
  {
   "cell_type": "markdown",
   "metadata": {
    "id": "707W2HqtXNQ7"
   },
   "source": [
    "# import nltk and preprocess libraries"
   ]
  },
  {
   "cell_type": "code",
   "execution_count": 39,
   "metadata": {
    "colab": {
     "base_uri": "https://localhost:8080/"
    },
    "id": "_2Y5jXQRWYx5",
    "outputId": "a513dcdb-71aa-43c9-b100-f7fca763e837"
   },
   "outputs": [
    {
     "name": "stdout",
     "output_type": "stream",
     "text": [
      "[nltk_data] Downloading package punkt to /root/nltk_data...\n",
      "[nltk_data]   Package punkt is already up-to-date!\n",
      "[nltk_data] Downloading package stopwords to /root/nltk_data...\n",
      "[nltk_data]   Package stopwords is already up-to-date!\n",
      "[nltk_data] Downloading package averaged_perceptron_tagger to\n",
      "[nltk_data]     /root/nltk_data...\n",
      "[nltk_data]   Package averaged_perceptron_tagger is already up-to-\n",
      "[nltk_data]       date!\n",
      "[nltk_data] Downloading package wordnet to /root/nltk_data...\n",
      "[nltk_data]   Unzipping corpora/wordnet.zip.\n"
     ]
    },
    {
     "data": {
      "text/plain": [
       "True"
      ]
     },
     "execution_count": 39,
     "metadata": {
      "tags": []
     },
     "output_type": "execute_result"
    }
   ],
   "source": [
    "import nltk\n",
    "from nltk.corpus import stopwords\n",
    "from nltk.stem import WordNetLemmatizer\n",
    "import string\n",
    "import pandas as pd\n",
    "from nltk import pos_tag\n",
    "from nltk.stem import PorterStemmer\n",
    "\n",
    "nltk.download('punkt') ## error without this cmd\n",
    "nltk.download('stopwords') \n",
    "nltk.download('averaged_perceptron_tagger')\n",
    "nltk.download('wordnet')"
   ]
  },
  {
   "cell_type": "code",
   "execution_count": 40,
   "metadata": {
    "id": "Ubuf7hsYXFEC"
   },
   "outputs": [],
   "source": [
    "def preprocessing(text):\n",
    "  text2 = \" \".join(\"\".join([\" \" if ch in string.punctuation else ch for ch in text]).split())\n",
    "  tokens = [word for sent in nltk.sent_tokenize(text2) for word in nltk.word_tokenize(sent)]\n",
    "  tokens = [word.lower() for word in tokens]\n",
    "  stopwds = stopwords.words('english')\n",
    "  tokens = [token for token in tokens if token not in stopwds]\n",
    "  tokens = [word for word in tokens if len(word)>=3]\n",
    "  stemmer = PorterStemmer()\n",
    "  tokens = [stemmer.stem(word) for word in tokens]\n",
    "\n",
    "  stemmer = PorterStemmer()\n",
    "  tokens = [stemmer.stem(word) for word in tokens]\n",
    "\n",
    "  tagged_corpus = pos_tag(tokens)\n",
    "  Noun_tags = ['NN','NNP','NNPS','NNS']\n",
    "  Verb_tags = ['VB','VBD','VBG','VBN','VBP','VBZ']\n",
    "\n",
    "  lemmatizer = WordNetLemmatizer()\n",
    "\n",
    "  def prat_lemmatize(token,tag):\n",
    "    if tag in Noun_tags:\n",
    "      return lemmatizer.lemmatize(token,'n')\n",
    "    elif tag in Verb_tags:\n",
    "      return lemmatizer.lemmatize(token,'v')\n",
    "    else:\n",
    "      return lemmatizer.lemmatize(token,'n')\n",
    "\n",
    "  pre_proc_text = \" \".join([prat_lemmatize(token,tag) for token,tag in tagged_corpus])\n",
    "\n",
    "  return pre_proc_text"
   ]
  },
  {
   "cell_type": "markdown",
   "metadata": {
    "id": "AUlFgIpMbWQi"
   },
   "source": [
    "# Applying pre-processing on train and test data:"
   ]
  },
  {
   "cell_type": "code",
   "execution_count": 41,
   "metadata": {
    "id": "Dgd2iOvaYyfV"
   },
   "outputs": [],
   "source": [
    "x_train_preprocessed = []\n",
    "for i in x_train:\n",
    "  x_train_preprocessed.append(preprocessing(i))"
   ]
  },
  {
   "cell_type": "code",
   "execution_count": 42,
   "metadata": {
    "colab": {
     "base_uri": "https://localhost:8080/",
     "height": 69.0
    },
    "id": "LjrNkhzUdFeP",
    "outputId": "0d75ed28-ef6d-47bc-808e-1fdfbc80e723"
   },
   "outputs": [
    {
     "data": {
      "text/plain": [
       "'lerxst wam umd edu thing subject car nntp post host rac3 wam umd edu organ univ maryland colleg park line wonder anyon could enlighten car saw day door sport car look late 60 earli 70 call bricklin door realli small addit front bumper separ rest bodi know anyon tellm model name engin spec year product car make histori whatev info funki look car plea mail thank bring neighborhood lerxst'"
      ]
     },
     "execution_count": 42,
     "metadata": {
      "tags": []
     },
     "output_type": "execute_result"
    }
   ],
   "source": [
    "x_train_preprocessed[0]"
   ]
  },
  {
   "cell_type": "code",
   "execution_count": 43,
   "metadata": {
    "id": "qtDgn3owZf2N"
   },
   "outputs": [],
   "source": [
    "x_test_preprocessed = []\n",
    "for i in x_test:\n",
    "  x_test_preprocessed.append(preprocessing(i))"
   ]
  },
  {
   "cell_type": "code",
   "execution_count": 44,
   "metadata": {
    "colab": {
     "base_uri": "https://localhost:8080/",
     "height": 69.0
    },
    "id": "8NBQIHE4dO2l",
    "outputId": "92424c3f-b02b-4ea4-872f-c55d9dd46a13"
   },
   "outputs": [
    {
     "data": {
      "text/plain": [
       "'v064mb9k ubvmsd buffalo edu neil gandler subject need info bonnevil organ univ buffalo line news softwar vax vm vnew nntp post host ubvmsd buffalo edu littl confu model bonnevil heard lse sse ssei could someon tell differ far featur perform also curiou know book valu prefer model much le book valu usual get word much demand time year heard mid spring earli summer best time buy neil gandler'"
      ]
     },
     "execution_count": 44,
     "metadata": {
      "tags": []
     },
     "output_type": "execute_result"
    }
   ],
   "source": [
    "x_test_preprocessed[0]"
   ]
  },
  {
   "cell_type": "markdown",
   "metadata": {
    "id": "oaab0s9lcb5V"
   },
   "source": [
    "# building TFIDF vectorizer"
   ]
  },
  {
   "cell_type": "code",
   "execution_count": 45,
   "metadata": {
    "id": "JvztJr6LcNM1"
   },
   "outputs": [],
   "source": [
    "from sklearn.feature_extraction.text import TfidfVectorizer\n",
    "\n",
    "vectorizer = TfidfVectorizer(min_df=2, ngram_range=(1, 2),\n",
    "stop_words='english', max_features= 10000,strip_accents='unicode',\n",
    "norm='l2')"
   ]
  },
  {
   "cell_type": "code",
   "execution_count": 45,
   "metadata": {
    "id": "NqYHd0zUYyg2"
   },
   "outputs": [],
   "source": [
    ""
   ]
  },
  {
   "cell_type": "code",
   "execution_count": 46,
   "metadata": {
    "id": "aSwu3u3vYSX2"
   },
   "outputs": [],
   "source": [
    "x_train_2 = vectorizer.fit_transform(x_train_preprocessed).todense()\n",
    "\n",
    "x_test_2 = vectorizer.transform(x_test_preprocessed).todense()"
   ]
  },
  {
   "cell_type": "markdown",
   "metadata": {
    "id": "QvMzsIpoc6G-"
   },
   "source": [
    "# Deep Learning modules"
   ]
  },
  {
   "cell_type": "code",
   "execution_count": 47,
   "metadata": {
    "id": "BTyrugXHYj6V"
   },
   "outputs": [],
   "source": [
    "import numpy as np\n",
    "from keras.models import Sequential\n",
    "from keras.layers.core import Dense, Dropout, Activation\n",
    "from keras.optimizers import Adadelta,Adam,RMSprop\n",
    "from keras.utils import np_utils"
   ]
  },
  {
   "cell_type": "code",
   "execution_count": 48,
   "metadata": {
    "id": "L2S6VldqYsjO"
   },
   "outputs": [],
   "source": [
    "np.random.seed(1337)\n",
    "nb_classes = 20\n",
    "batch_size = 64\n",
    "nb_epochs = 20"
   ]
  },
  {
   "cell_type": "code",
   "execution_count": 49,
   "metadata": {
    "id": "z367ZneZdsk2"
   },
   "outputs": [],
   "source": [
    "Y_train = np_utils.to_categorical(y_train, nb_classes)"
   ]
  },
  {
   "cell_type": "markdown",
   "metadata": {
    "id": "_1qYE7u7eGsy"
   },
   "source": [
    "#Deep Layer Model building in Keras"
   ]
  },
  {
   "cell_type": "code",
   "execution_count": 50,
   "metadata": {
    "colab": {
     "base_uri": "https://localhost:8080/"
    },
    "id": "UpK-Edx5eF6Z",
    "outputId": "89074169-b326-49e9-9864-d0447d023322"
   },
   "outputs": [
    {
     "name": "stdout",
     "output_type": "stream",
     "text": [
      "Model: \"sequential\"\n",
      "_________________________________________________________________\n",
      "Layer (type)                 Output Shape              Param #   \n",
      "=================================================================\n",
      "dense (Dense)                (None, 1000)              10001000  \n",
      "_________________________________________________________________\n",
      "activation (Activation)      (None, 1000)              0         \n",
      "_________________________________________________________________\n",
      "dropout (Dropout)            (None, 1000)              0         \n",
      "_________________________________________________________________\n",
      "dense_1 (Dense)              (None, 500)               500500    \n",
      "_________________________________________________________________\n",
      "activation_1 (Activation)    (None, 500)               0         \n",
      "_________________________________________________________________\n",
      "dropout_1 (Dropout)          (None, 500)               0         \n",
      "_________________________________________________________________\n",
      "dense_2 (Dense)              (None, 50)                25050     \n",
      "_________________________________________________________________\n",
      "activation_2 (Activation)    (None, 50)                0         \n",
      "_________________________________________________________________\n",
      "dropout_2 (Dropout)          (None, 50)                0         \n",
      "_________________________________________________________________\n",
      "dense_3 (Dense)              (None, 20)                1020      \n",
      "_________________________________________________________________\n",
      "activation_3 (Activation)    (None, 20)                0         \n",
      "=================================================================\n",
      "Total params: 10,527,570\n",
      "Trainable params: 10,527,570\n",
      "Non-trainable params: 0\n",
      "_________________________________________________________________\n",
      "None\n"
     ]
    }
   ],
   "source": [
    "model = Sequential()\n",
    "model.add(Dense(1000,input_shape= (10000,)))\n",
    "model.add(Activation('relu'))\n",
    "model.add(Dropout(0.5))\n",
    "model.add(Dense(500))\n",
    "model.add(Activation('relu'))\n",
    "model.add(Dropout(0.5))\n",
    "model.add(Dense(50))\n",
    "model.add(Activation('relu'))\n",
    "model.add(Dropout(0.5))\n",
    "model.add(Dense(nb_classes))\n",
    "model.add(Activation('softmax'))\n",
    "model.compile(loss='categorical_crossentropy', optimizer='adam')\n",
    "print (model.summary())"
   ]
  },
  {
   "cell_type": "markdown",
   "metadata": {
    "id": "gi9BsKLmeXi5"
   },
   "source": [
    "# Start training "
   ]
  },
  {
   "cell_type": "code",
   "execution_count": 51,
   "metadata": {
    "colab": {
     "base_uri": "https://localhost:8080/"
    },
    "id": "K3NQhmNUeR7C",
    "outputId": "d559716a-5a52-4fa7-c26c-7bf3822c989e"
   },
   "outputs": [
    {
     "name": "stdout",
     "output_type": "stream",
     "text": [
      "Epoch 1/20\n",
      "177/177 [==============================] - 13s 68ms/step - loss: 2.5852\n",
      "Epoch 2/20\n",
      "177/177 [==============================] - 12s 68ms/step - loss: 0.7187\n",
      "Epoch 3/20\n",
      "177/177 [==============================] - 12s 68ms/step - loss: 0.3358\n",
      "Epoch 4/20\n",
      "177/177 [==============================] - 12s 68ms/step - loss: 0.2025\n",
      "Epoch 5/20\n",
      "177/177 [==============================] - 12s 68ms/step - loss: 0.1218\n",
      "Epoch 6/20\n",
      "177/177 [==============================] - 12s 68ms/step - loss: 0.0912\n",
      "Epoch 7/20\n",
      "177/177 [==============================] - 12s 69ms/step - loss: 0.0723\n",
      "Epoch 8/20\n",
      "177/177 [==============================] - 12s 69ms/step - loss: 0.0577\n",
      "Epoch 9/20\n",
      "177/177 [==============================] - 12s 68ms/step - loss: 0.0478\n",
      "Epoch 10/20\n",
      "177/177 [==============================] - 12s 69ms/step - loss: 0.0497\n",
      "Epoch 11/20\n",
      "177/177 [==============================] - 12s 68ms/step - loss: 0.0398\n",
      "Epoch 12/20\n",
      "177/177 [==============================] - 12s 69ms/step - loss: 0.0412\n",
      "Epoch 13/20\n",
      "177/177 [==============================] - 12s 69ms/step - loss: 0.0321\n",
      "Epoch 14/20\n",
      "177/177 [==============================] - 12s 69ms/step - loss: 0.0329\n",
      "Epoch 15/20\n",
      "177/177 [==============================] - 12s 69ms/step - loss: 0.0254\n",
      "Epoch 16/20\n",
      "177/177 [==============================] - 12s 68ms/step - loss: 0.0297\n",
      "Epoch 17/20\n",
      "177/177 [==============================] - 12s 68ms/step - loss: 0.0284\n",
      "Epoch 18/20\n",
      "177/177 [==============================] - 12s 68ms/step - loss: 0.0218\n",
      "Epoch 19/20\n",
      "177/177 [==============================] - 12s 68ms/step - loss: 0.0200\n",
      "Epoch 20/20\n",
      "177/177 [==============================] - 12s 68ms/step - loss: 0.0208\n"
     ]
    },
    {
     "data": {
      "text/plain": [
       "<tensorflow.python.keras.callbacks.History at 0x7fda37faaf90>"
      ]
     },
     "execution_count": 51,
     "metadata": {
      "tags": []
     },
     "output_type": "execute_result"
    }
   ],
   "source": [
    "model.fit(x_train_2, Y_train, batch_size=batch_size,\n",
    "epochs=nb_epochs,verbose=1)"
   ]
  },
  {
   "cell_type": "markdown",
   "metadata": {
    "id": "uDSMSd-TewYZ"
   },
   "source": [
    "#Model Prediction\n"
   ]
  },
  {
   "cell_type": "code",
   "execution_count": 52,
   "metadata": {
    "colab": {
     "base_uri": "https://localhost:8080/"
    },
    "id": "XswdL0rvebVY",
    "outputId": "1a096c87-da91-4395-8adf-edfe850575a1"
   },
   "outputs": [
    {
     "name": "stderr",
     "output_type": "stream",
     "text": [
      "/usr/local/lib/python3.7/dist-packages/tensorflow/python/keras/engine/sequential.py:450: UserWarning: `model.predict_classes()` is deprecated and will be removed after 2021-01-01. Please use instead:* `np.argmax(model.predict(x), axis=-1)`,   if your model does multi-class classification   (e.g. if it uses a `softmax` last-layer activation).* `(model.predict(x) > 0.5).astype(\"int32\")`,   if your model does binary classification   (e.g. if it uses a `sigmoid` last-layer activation).\n",
      "  warnings.warn('`model.predict_classes()` is deprecated and '\n"
     ]
    }
   ],
   "source": [
    "y_train_predclass = model.predict_classes(x_train_2,batch_size=batch_size)\n",
    "y_test_predclass = model.predict_classes(x_test_2,batch_size=batch_size)\n",
    "from sklearn.metrics import accuracy_score,classification_report"
   ]
  },
  {
   "cell_type": "code",
   "execution_count": 54,
   "metadata": {
    "colab": {
     "base_uri": "https://localhost:8080/"
    },
    "id": "YqAavyHofULr",
    "outputId": "2c8a0a3a-9bf4-4314-c42b-e92f752b0188"
   },
   "outputs": [
    {
     "name": "stdout",
     "output_type": "stream",
     "text": [
      "\n",
      "\n",
      "Deep Neural Network - Train accuracy:\n"
     ]
    },
    {
     "data": {
      "text/plain": [
       "0.999"
      ]
     },
     "execution_count": 54,
     "metadata": {
      "tags": []
     },
     "output_type": "execute_result"
    }
   ],
   "source": [
    "print (\"\\n\\nDeep Neural Network - Train accuracy:\"),\n",
    "(round(accuracy_score( y_train, y_train_predclass),3))"
   ]
  },
  {
   "cell_type": "code",
   "execution_count": 55,
   "metadata": {
    "colab": {
     "base_uri": "https://localhost:8080/"
    },
    "id": "ekrTJmerfY5q",
    "outputId": "bb587aef-b210-490e-c7a1-c2746363409e"
   },
   "outputs": [
    {
     "name": "stdout",
     "output_type": "stream",
     "text": [
      "\n",
      "Deep Neural Network - Test accuracy:\n"
     ]
    },
    {
     "data": {
      "text/plain": [
       "0.808"
      ]
     },
     "execution_count": 55,
     "metadata": {
      "tags": []
     },
     "output_type": "execute_result"
    }
   ],
   "source": [
    "print (\"\\nDeep Neural Network - Test accuracy:\")\n",
    "(round(accuracy_score(y_test,y_test_predclass),3))"
   ]
  },
  {
   "cell_type": "code",
   "execution_count": 56,
   "metadata": {
    "colab": {
     "base_uri": "https://localhost:8080/"
    },
    "id": "Rq3HrrZ4fdKR",
    "outputId": "358fc33b-d657-4f3d-e003-e2720a5cb97f"
   },
   "outputs": [
    {
     "name": "stdout",
     "output_type": "stream",
     "text": [
      "\n",
      "Deep Neural Network - Train Classification Report\n",
      "              precision    recall  f1-score   support\n",
      "\n",
      "           0       1.00      1.00      1.00       480\n",
      "           1       1.00      1.00      1.00       584\n",
      "           2       1.00      1.00      1.00       591\n",
      "           3       1.00      1.00      1.00       590\n",
      "           4       1.00      1.00      1.00       578\n",
      "           5       1.00      1.00      1.00       593\n",
      "           6       1.00      0.99      1.00       585\n",
      "           7       1.00      1.00      1.00       594\n",
      "           8       1.00      1.00      1.00       598\n",
      "           9       1.00      1.00      1.00       597\n",
      "          10       1.00      1.00      1.00       600\n",
      "          11       1.00      1.00      1.00       595\n",
      "          12       1.00      1.00      1.00       591\n",
      "          13       1.00      1.00      1.00       594\n",
      "          14       1.00      1.00      1.00       593\n",
      "          15       1.00      1.00      1.00       599\n",
      "          16       1.00      1.00      1.00       546\n",
      "          17       1.00      1.00      1.00       564\n",
      "          18       1.00      1.00      1.00       465\n",
      "          19       1.00      1.00      1.00       377\n",
      "\n",
      "    accuracy                           1.00     11314\n",
      "   macro avg       1.00      1.00      1.00     11314\n",
      "weighted avg       1.00      1.00      1.00     11314\n",
      "\n"
     ]
    }
   ],
   "source": [
    "print (\"\\nDeep Neural Network - Train Classification Report\")\n",
    "print (classification_report(y_train,y_train_predclass))"
   ]
  },
  {
   "cell_type": "code",
   "execution_count": null,
   "metadata": {
    "id": "TFHA_jwjqo4M"
   },
   "outputs": [],
   "source": [
    ""
   ]
  },
  {
   "cell_type": "code",
   "execution_count": null,
   "metadata": {
    "id": "8MfehLQOqo6i"
   },
   "outputs": [],
   "source": [
    ""
   ]
  },
  {
   "cell_type": "code",
   "execution_count": 57,
   "metadata": {
    "colab": {
     "base_uri": "https://localhost:8080/"
    },
    "id": "CwoVXB_Zfg4q",
    "outputId": "72a9b3db-2f81-4947-990a-c289e02f8944"
   },
   "outputs": [
    {
     "name": "stdout",
     "output_type": "stream",
     "text": [
      "\n",
      "Deep Neural Network - Test Classification Report\n",
      "              precision    recall  f1-score   support\n",
      "\n",
      "           0       0.78      0.74      0.76       319\n",
      "           1       0.71      0.71      0.71       389\n",
      "           2       0.67      0.69      0.68       394\n",
      "           3       0.65      0.70      0.68       392\n",
      "           4       0.72      0.81      0.77       385\n",
      "           5       0.80      0.74      0.77       395\n",
      "           6       0.82      0.79      0.81       390\n",
      "           7       0.90      0.85      0.87       396\n",
      "           8       0.89      0.93      0.91       398\n",
      "           9       0.88      0.91      0.89       397\n",
      "          10       0.94      0.97      0.96       399\n",
      "          11       0.92      0.91      0.91       396\n",
      "          12       0.70      0.73      0.71       393\n",
      "          13       0.89      0.79      0.83       396\n",
      "          14       0.88      0.93      0.90       394\n",
      "          15       0.88      0.85      0.86       398\n",
      "          16       0.77      0.86      0.81       364\n",
      "          17       0.98      0.84      0.90       376\n",
      "          18       0.71      0.69      0.70       310\n",
      "          19       0.63      0.65      0.64       251\n",
      "\n",
      "    accuracy                           0.81      7532\n",
      "   macro avg       0.81      0.80      0.80      7532\n",
      "weighted avg       0.81      0.81      0.81      7532\n",
      "\n"
     ]
    }
   ],
   "source": [
    "print (\"\\nDeep Neural Network - Test Classification Report\")\n",
    "print (classification_report(y_test,y_test_predclass))"
   ]
  },
  {
   "cell_type": "code",
   "execution_count": null,
   "metadata": {
    "id": "go3_P7hyfg3a"
   },
   "outputs": [],
   "source": [
    ""
   ]
  }
 ],
 "metadata": {
  "colab": {
   "name": "ysk-keras_mail_classification_tf-idf.ipynb",
   "provenance": [],
   "collapsed_sections": []
  },
  "kernelspec": {
   "name": "python3",
   "display_name": "Python 3"
  }
 },
 "nbformat": 4,
 "nbformat_minor": 0
}