{
  "nbformat": 4,
  "nbformat_minor": 0,
  "metadata": {
    "colab": {
      "name": "ysk-pytorch1_mail_classification_tf-idf.ipynb",
      "provenance": [],
      "collapsed_sections": []
    },
    "kernelspec": {
      "display_name": "Python 3",
      "name": "python3"
    }
  },
  "cells": [
    {
      "cell_type": "code",
      "metadata": {
        "colab": {
          "base_uri": "https://localhost:8080/"
        },
        "id": "uB0BxhXdPZYB",
        "outputId": "4544fa6b-1e2d-4578-bc6f-a7d5c06e2e5c"
      },
      "source": [
        "from sklearn.datasets import fetch_20newsgroups\n",
        "from keras.utils import np_utils\n",
        "newsgroups_train = fetch_20newsgroups(subset='train')\n",
        "newsgroups_test = fetch_20newsgroups(subset='test')"
      ],
      "execution_count": 1,
      "outputs": [
        {
          "output_type": "stream",
          "text": [
            "Downloading 20news dataset. This may take a few minutes.\n",
            "Downloading dataset from https://ndownloader.figshare.com/files/5975967 (14 MB)\n"
          ],
          "name": "stderr"
        }
      ]
    },
    {
      "cell_type": "code",
      "metadata": {
        "colab": {
          "base_uri": "https://localhost:8080/"
        },
        "id": "4nl_0X2OPkwj",
        "outputId": "2e428433-180b-4959-b113-45f876152a30"
      },
      "source": [
        "x_train = newsgroups_train.data\n",
        "x_test = newsgroups_test.data\n",
        "\n",
        "\n",
        "y_train = newsgroups_train.target\n",
        "y_test = newsgroups_test.target\n",
        "\n",
        "\n",
        "print (\"List of all 20 categories:\")\n",
        "print (newsgroups_train.target_names)\n",
        "\n",
        "\n"
      ],
      "execution_count": 2,
      "outputs": [
        {
          "output_type": "stream",
          "text": [
            "List of all 20 categories:\n",
            "['alt.atheism', 'comp.graphics', 'comp.os.ms-windows.misc', 'comp.sys.ibm.pc.hardware', 'comp.sys.mac.hardware', 'comp.windows.x', 'misc.forsale', 'rec.autos', 'rec.motorcycles', 'rec.sport.baseball', 'rec.sport.hockey', 'sci.crypt', 'sci.electronics', 'sci.med', 'sci.space', 'soc.religion.christian', 'talk.politics.guns', 'talk.politics.mideast', 'talk.politics.misc', 'talk.religion.misc']\n"
          ],
          "name": "stdout"
        }
      ]
    },
    {
      "cell_type": "code",
      "metadata": {
        "colab": {
          "base_uri": "https://localhost:8080/"
        },
        "id": "IlXgaZMOVvtB",
        "outputId": "b71eb0f6-efd9-43fb-a58a-aca0feecfc87"
      },
      "source": [
        "print (\"\\n\")\n",
        "print (\"Sample Email:\")\n",
        "print (x_train[0])\n",
        "print('y_train:-',y_train[0])\n",
        "\n"
      ],
      "execution_count": 3,
      "outputs": [
        {
          "output_type": "stream",
          "text": [
            "\n",
            "\n",
            "Sample Email:\n",
            "From: lerxst@wam.umd.edu (where's my thing)\n",
            "Subject: WHAT car is this!?\n",
            "Nntp-Posting-Host: rac3.wam.umd.edu\n",
            "Organization: University of Maryland, College Park\n",
            "Lines: 15\n",
            "\n",
            " I was wondering if anyone out there could enlighten me on this car I saw\n",
            "the other day. It was a 2-door sports car, looked to be from the late 60s/\n",
            "early 70s. It was called a Bricklin. The doors were really small. In addition,\n",
            "the front bumper was separate from the rest of the body. This is \n",
            "all I know. If anyone can tellme a model name, engine specs, years\n",
            "of production, where this car is made, history, or whatever info you\n",
            "have on this funky looking car, please e-mail.\n",
            "\n",
            "Thanks,\n",
            "- IL\n",
            "   ---- brought to you by your neighborhood Lerxst ----\n",
            "\n",
            "\n",
            "\n",
            "\n",
            "\n",
            "y_train:- 7\n"
          ],
          "name": "stdout"
        }
      ]
    },
    {
      "cell_type": "code",
      "metadata": {
        "colab": {
          "base_uri": "https://localhost:8080/"
        },
        "id": "j2qtnYJwPx1X",
        "outputId": "a4df3ef4-3103-43b9-b3bd-64adee515afb"
      },
      "source": [
        "print (\"Sample Target Category:\")\n",
        "print (y_train[0])\n",
        "print (newsgroups_train.target_names[y_train[0]])"
      ],
      "execution_count": 4,
      "outputs": [
        {
          "output_type": "stream",
          "text": [
            "Sample Target Category:\n",
            "7\n",
            "rec.autos\n"
          ],
          "name": "stdout"
        }
      ]
    },
    {
      "cell_type": "code",
      "metadata": {
        "colab": {
          "base_uri": "https://localhost:8080/"
        },
        "id": "OJ1h44r8BuxS",
        "outputId": "973df5ed-7ee7-448e-e933-41da19bd8121"
      },
      "source": [
        "y_train[:5]"
      ],
      "execution_count": 5,
      "outputs": [
        {
          "output_type": "execute_result",
          "data": {
            "text/plain": [
              "array([ 7,  4,  4,  1, 14])"
            ]
          },
          "metadata": {
            "tags": []
          },
          "execution_count": 5
        }
      ]
    },
    {
      "cell_type": "code",
      "metadata": {
        "colab": {
          "base_uri": "https://localhost:8080/"
        },
        "id": "RjLbkYhdB1dY",
        "outputId": "2b249258-c7c0-4a5f-cee6-237785cc2166"
      },
      "source": [
        "y_test[:5]"
      ],
      "execution_count": 6,
      "outputs": [
        {
          "output_type": "execute_result",
          "data": {
            "text/plain": [
              "array([ 7,  5,  0, 17, 19])"
            ]
          },
          "metadata": {
            "tags": []
          },
          "execution_count": 6
        }
      ]
    },
    {
      "cell_type": "code",
      "metadata": {
        "id": "sQeqPtBUB1bn"
      },
      "source": [
        ""
      ],
      "execution_count": 6,
      "outputs": []
    },
    {
      "cell_type": "markdown",
      "metadata": {
        "id": "707W2HqtXNQ7"
      },
      "source": [
        "# import nltk and preprocess libraries"
      ]
    },
    {
      "cell_type": "code",
      "metadata": {
        "colab": {
          "base_uri": "https://localhost:8080/"
        },
        "id": "_2Y5jXQRWYx5",
        "outputId": "e1c1bbfc-9402-4958-abff-5f9bddc7a85d"
      },
      "source": [
        "import nltk\n",
        "from nltk.corpus import stopwords\n",
        "from nltk.stem import WordNetLemmatizer\n",
        "import string\n",
        "import pandas as pd\n",
        "from nltk import pos_tag\n",
        "from nltk.stem import PorterStemmer\n",
        "\n",
        "nltk.download('punkt') ## error without this cmd\n",
        "nltk.download('stopwords') \n",
        "nltk.download('averaged_perceptron_tagger')\n",
        "nltk.download('wordnet')"
      ],
      "execution_count": 7,
      "outputs": [
        {
          "output_type": "stream",
          "text": [
            "[nltk_data] Downloading package punkt to /root/nltk_data...\n",
            "[nltk_data]   Unzipping tokenizers/punkt.zip.\n",
            "[nltk_data] Downloading package stopwords to /root/nltk_data...\n",
            "[nltk_data]   Unzipping corpora/stopwords.zip.\n",
            "[nltk_data] Downloading package averaged_perceptron_tagger to\n",
            "[nltk_data]     /root/nltk_data...\n",
            "[nltk_data]   Unzipping taggers/averaged_perceptron_tagger.zip.\n",
            "[nltk_data] Downloading package wordnet to /root/nltk_data...\n",
            "[nltk_data]   Unzipping corpora/wordnet.zip.\n"
          ],
          "name": "stdout"
        },
        {
          "output_type": "execute_result",
          "data": {
            "text/plain": [
              "True"
            ]
          },
          "metadata": {
            "tags": []
          },
          "execution_count": 7
        }
      ]
    },
    {
      "cell_type": "code",
      "metadata": {
        "id": "Ubuf7hsYXFEC"
      },
      "source": [
        "def preprocessing(text):\n",
        "  text2 = \" \".join(\"\".join([\" \" if ch in string.punctuation else ch for ch in text]).split())\n",
        "  tokens = [word for sent in nltk.sent_tokenize(text2) for word in nltk.word_tokenize(sent)]\n",
        "  tokens = [word.lower() for word in tokens]\n",
        "  stopwds = stopwords.words('english')\n",
        "  tokens = [token for token in tokens if token not in stopwds]\n",
        "  tokens = [word for word in tokens if len(word)>=3]\n",
        "  stemmer = PorterStemmer()\n",
        "  tokens = [stemmer.stem(word) for word in tokens]\n",
        "\n",
        "  stemmer = PorterStemmer()\n",
        "  tokens = [stemmer.stem(word) for word in tokens]\n",
        "\n",
        "  tagged_corpus = pos_tag(tokens)\n",
        "  Noun_tags = ['NN','NNP','NNPS','NNS']\n",
        "  Verb_tags = ['VB','VBD','VBG','VBN','VBP','VBZ']\n",
        "\n",
        "  lemmatizer = WordNetLemmatizer()\n",
        "\n",
        "  def prat_lemmatize(token,tag):\n",
        "    if tag in Noun_tags:\n",
        "      return lemmatizer.lemmatize(token,'n')\n",
        "    elif tag in Verb_tags:\n",
        "      return lemmatizer.lemmatize(token,'v')\n",
        "    else:\n",
        "      return lemmatizer.lemmatize(token,'n')\n",
        "\n",
        "  pre_proc_text = \" \".join([prat_lemmatize(token,tag) for token,tag in tagged_corpus])\n",
        "\n",
        "  return pre_proc_text"
      ],
      "execution_count": 8,
      "outputs": []
    },
    {
      "cell_type": "markdown",
      "metadata": {
        "id": "AUlFgIpMbWQi"
      },
      "source": [
        "# Applying pre-processing on train and test data:"
      ]
    },
    {
      "cell_type": "code",
      "metadata": {
        "id": "Dgd2iOvaYyfV"
      },
      "source": [
        "x_train_preprocessed = []\n",
        "for i in x_train:\n",
        "  x_train_preprocessed.append(preprocessing(i))\n",
        "  "
      ],
      "execution_count": 9,
      "outputs": []
    },
    {
      "cell_type": "code",
      "metadata": {
        "colab": {
          "base_uri": "https://localhost:8080/",
          "height": 70
        },
        "id": "LjrNkhzUdFeP",
        "outputId": "4c5d5d23-8276-4427-b7ef-79db816bebc9"
      },
      "source": [
        "x_train_preprocessed[0]"
      ],
      "execution_count": 10,
      "outputs": [
        {
          "output_type": "execute_result",
          "data": {
            "application/vnd.google.colaboratory.intrinsic+json": {
              "type": "string"
            },
            "text/plain": [
              "'lerxst wam umd edu thing subject car nntp post host rac3 wam umd edu organ univ maryland colleg park line wonder anyon could enlighten car saw day door sport car look late 60 earli 70 call bricklin door realli small addit front bumper separ rest bodi know anyon tellm model name engin spec year product car make histori whatev info funki look car plea mail thank bring neighborhood lerxst'"
            ]
          },
          "metadata": {
            "tags": []
          },
          "execution_count": 10
        }
      ]
    },
    {
      "cell_type": "code",
      "metadata": {
        "id": "qtDgn3owZf2N"
      },
      "source": [
        "x_test_preprocessed = []\n",
        "for i in x_test:\n",
        "  x_test_preprocessed.append(preprocessing(i))"
      ],
      "execution_count": 11,
      "outputs": []
    },
    {
      "cell_type": "code",
      "metadata": {
        "colab": {
          "base_uri": "https://localhost:8080/",
          "height": 70
        },
        "id": "8NBQIHE4dO2l",
        "outputId": "5d471df2-22c4-4e14-8d95-7fcfbf3b3784"
      },
      "source": [
        "x_test_preprocessed[0]"
      ],
      "execution_count": 12,
      "outputs": [
        {
          "output_type": "execute_result",
          "data": {
            "application/vnd.google.colaboratory.intrinsic+json": {
              "type": "string"
            },
            "text/plain": [
              "'v064mb9k ubvmsd buffalo edu neil gandler subject need info bonnevil organ univ buffalo line news softwar vax vm vnew nntp post host ubvmsd buffalo edu littl confu model bonnevil heard lse sse ssei could someon tell differ far featur perform also curiou know book valu prefer model much le book valu usual get word much demand time year heard mid spring earli summer best time buy neil gandler'"
            ]
          },
          "metadata": {
            "tags": []
          },
          "execution_count": 12
        }
      ]
    },
    {
      "cell_type": "markdown",
      "metadata": {
        "id": "oaab0s9lcb5V"
      },
      "source": [
        "# building TFIDF vectorizer"
      ]
    },
    {
      "cell_type": "code",
      "metadata": {
        "id": "JvztJr6LcNM1"
      },
      "source": [
        "from sklearn.feature_extraction.text import TfidfVectorizer\n",
        "\n",
        "vectorizer = TfidfVectorizer(min_df=2, ngram_range=(1, 2),\n",
        "stop_words='english', max_features= 10000,strip_accents='unicode',\n",
        "norm='l2')"
      ],
      "execution_count": 13,
      "outputs": []
    },
    {
      "cell_type": "code",
      "metadata": {
        "id": "NqYHd0zUYyg2"
      },
      "source": [
        ""
      ],
      "execution_count": 13,
      "outputs": []
    },
    {
      "cell_type": "code",
      "metadata": {
        "id": "aSwu3u3vYSX2"
      },
      "source": [
        "x_train_2 = vectorizer.fit_transform(x_train_preprocessed).todense()\n",
        "\n",
        "x_test_2 = vectorizer.transform(x_test_preprocessed).todense()\n"
      ],
      "execution_count": 14,
      "outputs": []
    },
    {
      "cell_type": "code",
      "metadata": {
        "id": "Etgrh2T56xVr"
      },
      "source": [
        ""
      ],
      "execution_count": 14,
      "outputs": []
    },
    {
      "cell_type": "markdown",
      "metadata": {
        "id": "QvMzsIpoc6G-"
      },
      "source": [
        "# Deep Learning modules"
      ]
    },
    {
      "cell_type": "code",
      "metadata": {
        "id": "BTyrugXHYj6V"
      },
      "source": [
        "import numpy as np\n",
        "from keras.models import Sequential\n",
        "from keras.layers.core import Dense, Dropout, Activation\n",
        "from keras.optimizers import Adadelta,Adam,RMSprop\n",
        "from keras.utils import np_utils"
      ],
      "execution_count": 15,
      "outputs": []
    },
    {
      "cell_type": "code",
      "metadata": {
        "id": "L2S6VldqYsjO"
      },
      "source": [
        "np.random.seed(1337)\n",
        "nb_classes = 20\n",
        "batch_size = 64\n",
        "nb_epochs = 20"
      ],
      "execution_count": 16,
      "outputs": []
    },
    {
      "cell_type": "code",
      "metadata": {
        "colab": {
          "base_uri": "https://localhost:8080/"
        },
        "id": "z367ZneZdsk2",
        "outputId": "45f47852-bc25-4a03-fa59-ac8bd2c8947a"
      },
      "source": [
        "Y_train = np_utils.to_categorical(y_train, nb_classes)\n",
        "Y_train[0]"
      ],
      "execution_count": 17,
      "outputs": [
        {
          "output_type": "execute_result",
          "data": {
            "text/plain": [
              "array([0., 0., 0., 0., 0., 0., 0., 1., 0., 0., 0., 0., 0., 0., 0., 0., 0.,\n",
              "       0., 0., 0.], dtype=float32)"
            ]
          },
          "metadata": {
            "tags": []
          },
          "execution_count": 17
        }
      ]
    },
    {
      "cell_type": "markdown",
      "metadata": {
        "id": "oECb7lSPz5kP"
      },
      "source": [
        "## Deep Neural Network Model Building  using Pytorch"
      ]
    },
    {
      "cell_type": "code",
      "metadata": {
        "colab": {
          "base_uri": "https://localhost:8080/"
        },
        "id": "rL7wZ6ws0JgH",
        "outputId": "33ca4915-39de-43e9-b4ec-5fd2f06df71e"
      },
      "source": [
        "print('Xtrain:', x_train_2[0], 'Ytrain',  Y_train[0])"
      ],
      "execution_count": 18,
      "outputs": [
        {
          "output_type": "stream",
          "text": [
            "Xtrain: [[0. 0. 0. ... 0. 0. 0.]] Ytrain [0. 0. 0. 0. 0. 0. 0. 1. 0. 0. 0. 0. 0. 0. 0. 0. 0. 0. 0. 0.]\n"
          ],
          "name": "stdout"
        }
      ]
    },
    {
      "cell_type": "code",
      "metadata": {
        "colab": {
          "base_uri": "https://localhost:8080/"
        },
        "id": "ZqljMjyH47LV",
        "outputId": "42f112bd-3ebb-4167-ffa8-93a040038e69"
      },
      "source": [
        "print(\"Xtest:\", x_test_2[0], \"Ytest\", y_test[0])"
      ],
      "execution_count": 19,
      "outputs": [
        {
          "output_type": "stream",
          "text": [
            "Xtest: [[0. 0. 0. ... 0. 0. 0.]] Ytest 7\n"
          ],
          "name": "stdout"
        }
      ]
    },
    {
      "cell_type": "code",
      "metadata": {
        "colab": {
          "base_uri": "https://localhost:8080/"
        },
        "id": "TaOm6FTO_Ka9",
        "outputId": "55f0a345-6d37-463a-dd90-bd40f8e1e7f6"
      },
      "source": [
        "Y_test = np_utils.to_categorical(y_test, nb_classes)\n",
        "Y_test[0]"
      ],
      "execution_count": 20,
      "outputs": [
        {
          "output_type": "execute_result",
          "data": {
            "text/plain": [
              "array([0., 0., 0., 0., 0., 0., 0., 1., 0., 0., 0., 0., 0., 0., 0., 0., 0.,\n",
              "       0., 0., 0.], dtype=float32)"
            ]
          },
          "metadata": {
            "tags": []
          },
          "execution_count": 20
        }
      ]
    },
    {
      "cell_type": "code",
      "metadata": {
        "id": "nHtdMTY46PLj"
      },
      "source": [
        "import torch\n",
        "import torch.nn as nn\n",
        "import torch.nn.functional as F\n",
        "from torch.utils.data import Dataset, DataLoader, WeightedRandomSampler\n",
        "from sklearn.metrics import confusion_matrix, classification_report\n",
        "import seaborn as sns\n",
        "import matplotlib.pyplot as plt"
      ],
      "execution_count": 43,
      "outputs": []
    },
    {
      "cell_type": "code",
      "metadata": {
        "id": "jlcN4ROF6Us1"
      },
      "source": [
        "X_train_f=torch.FloatTensor(x_train_2)\n",
        "X_test_f=torch.FloatTensor(x_test_2)\n",
        "y_train_f=torch.LongTensor(y_train)\n",
        "y_test_f=torch.LongTensor(y_test)"
      ],
      "execution_count": 22,
      "outputs": []
    },
    {
      "cell_type": "code",
      "metadata": {
        "id": "a2ZR9kooMFQu"
      },
      "source": [
        "# from google.colab import drive\n",
        "# drive.mount(\"/content/drive\")"
      ],
      "execution_count": 23,
      "outputs": []
    },
    {
      "cell_type": "markdown",
      "metadata": {
        "id": "78M0Iuv4HpmT"
      },
      "source": [
        "## to save input data "
      ]
    },
    {
      "cell_type": "code",
      "metadata": {
        "id": "wkzGCJR1JL1U"
      },
      "source": [
        "# torch.save(X_train_f, 'x_train_f.pt')\n",
        "# torch.save(X_test_f, 'x_test_f.pt')\n",
        "# torch.save(y_train_f, 'y_train_f.pt')\n",
        "# torch.save(y_test_f, 'y_test_f.pt')"
      ],
      "execution_count": 24,
      "outputs": []
    },
    {
      "cell_type": "code",
      "metadata": {
        "id": "sGmwX8g5JmjT"
      },
      "source": [
        "# torch.load('x_train_f.pt')"
      ],
      "execution_count": 25,
      "outputs": []
    },
    {
      "cell_type": "code",
      "metadata": {
        "id": "LXAokpetJmhR"
      },
      "source": [
        ""
      ],
      "execution_count": 25,
      "outputs": []
    },
    {
      "cell_type": "code",
      "metadata": {
        "colab": {
          "base_uri": "https://localhost:8080/"
        },
        "id": "gE4F63iW7Ng_",
        "outputId": "d6c3b3e1-02cd-4634-9b70-f52db7e5375c"
      },
      "source": [
        "X_train_f.shape"
      ],
      "execution_count": 26,
      "outputs": [
        {
          "output_type": "execute_result",
          "data": {
            "text/plain": [
              "torch.Size([11314, 10000])"
            ]
          },
          "metadata": {
            "tags": []
          },
          "execution_count": 26
        }
      ]
    },
    {
      "cell_type": "code",
      "metadata": {
        "colab": {
          "base_uri": "https://localhost:8080/"
        },
        "id": "60gEFnn0DPqV",
        "outputId": "a8313750-1f23-4efa-ffc6-1b396f1e8093"
      },
      "source": [
        "y_train_f.shape"
      ],
      "execution_count": 27,
      "outputs": [
        {
          "output_type": "execute_result",
          "data": {
            "text/plain": [
              "torch.Size([11314])"
            ]
          },
          "metadata": {
            "tags": []
          },
          "execution_count": 27
        }
      ]
    },
    {
      "cell_type": "code",
      "metadata": {
        "colab": {
          "base_uri": "https://localhost:8080/"
        },
        "id": "bUuwd33i_fnS",
        "outputId": "2602cbea-7e63-43b2-b2a5-050314ae152d"
      },
      "source": [
        "X_test_f.shape"
      ],
      "execution_count": 28,
      "outputs": [
        {
          "output_type": "execute_result",
          "data": {
            "text/plain": [
              "torch.Size([7532, 10000])"
            ]
          },
          "metadata": {
            "tags": []
          },
          "execution_count": 28
        }
      ]
    },
    {
      "cell_type": "code",
      "metadata": {
        "colab": {
          "base_uri": "https://localhost:8080/"
        },
        "id": "4FnvEQKJ7Zln",
        "outputId": "60f25f0e-4572-41a1-c7e8-5ba2ad643329"
      },
      "source": [
        "y_test_f.shape"
      ],
      "execution_count": 29,
      "outputs": [
        {
          "output_type": "execute_result",
          "data": {
            "text/plain": [
              "torch.Size([7532])"
            ]
          },
          "metadata": {
            "tags": []
          },
          "execution_count": 29
        }
      ]
    },
    {
      "cell_type": "code",
      "metadata": {
        "id": "hRoLWDv57MCZ"
      },
      "source": [
        "class ANN_Model(nn.Module):\n",
        "    def __init__(self,input_features=10000,h1=1000,h2=500, h3=50,out_features=20):\n",
        "        super().__init__()\n",
        "        self.drop=nn.Dropout(p=0.5)\n",
        "\n",
        "        self.f_connected1=nn.Linear(input_features,h1)\n",
        "        self.f_connected2=nn.Linear(h1,h2)\n",
        "        self.f_connected3=nn.Linear(h2,h3)\n",
        "\n",
        "        self.out=nn.Linear(h3,out_features)\n",
        "    def forward(self,x):\n",
        "        x=F.relu(self.f_connected1(x))\n",
        "        x= self.drop(x)\n",
        "\n",
        "        x=F.relu(self.f_connected2(x))\n",
        "        x= self.drop(x)\n",
        "\n",
        "        x=F.relu(self.f_connected3(x))\n",
        "        x= self.drop(x)\n",
        "\n",
        "        x=self.out(x)\n",
        "        return x"
      ],
      "execution_count": 30,
      "outputs": []
    },
    {
      "cell_type": "code",
      "metadata": {
        "id": "O7PB-T2T7qmq"
      },
      "source": [
        "\n",
        "torch.manual_seed(20)\n",
        "model1=ANN_Model()\n"
      ],
      "execution_count": 31,
      "outputs": []
    },
    {
      "cell_type": "code",
      "metadata": {
        "colab": {
          "base_uri": "https://localhost:8080/"
        },
        "id": "-2DIJRV47v-F",
        "outputId": "491d90dd-dd56-4d0f-9d23-a17bd954916c"
      },
      "source": [
        "model1.parameters"
      ],
      "execution_count": 32,
      "outputs": [
        {
          "output_type": "execute_result",
          "data": {
            "text/plain": [
              "<bound method Module.parameters of ANN_Model(\n",
              "  (drop): Dropout(p=0.5, inplace=False)\n",
              "  (f_connected1): Linear(in_features=10000, out_features=1000, bias=True)\n",
              "  (f_connected2): Linear(in_features=1000, out_features=500, bias=True)\n",
              "  (f_connected3): Linear(in_features=500, out_features=50, bias=True)\n",
              "  (out): Linear(in_features=50, out_features=20, bias=True)\n",
              ")>"
            ]
          },
          "metadata": {
            "tags": []
          },
          "execution_count": 32
        }
      ]
    },
    {
      "cell_type": "code",
      "metadata": {
        "id": "1HQWPkVU_xyB"
      },
      "source": [
        ""
      ],
      "execution_count": 32,
      "outputs": []
    },
    {
      "cell_type": "code",
      "metadata": {
        "id": "fVshEHfI72t6"
      },
      "source": [
        "\n",
        "\n",
        "\n",
        "loss_function=nn.CrossEntropyLoss()\n",
        "optimizer=torch.optim.Adam(model1.parameters(), lr=0.01)\n",
        "\n"
      ],
      "execution_count": 33,
      "outputs": []
    },
    {
      "cell_type": "code",
      "metadata": {
        "colab": {
          "base_uri": "https://localhost:8080/"
        },
        "id": "oKnFm0XEBGzO",
        "outputId": "53878575-04a6-4021-ca5c-31fb41819fbd"
      },
      "source": [
        "y_test_f.unique()"
      ],
      "execution_count": 34,
      "outputs": [
        {
          "output_type": "execute_result",
          "data": {
            "text/plain": [
              "tensor([ 0,  1,  2,  3,  4,  5,  6,  7,  8,  9, 10, 11, 12, 13, 14, 15, 16, 17,\n",
              "        18, 19])"
            ]
          },
          "metadata": {
            "tags": []
          },
          "execution_count": 34
        }
      ]
    },
    {
      "cell_type": "code",
      "metadata": {
        "id": "uisyKpXWi4VX"
      },
      "source": [
        ""
      ],
      "execution_count": 34,
      "outputs": []
    },
    {
      "cell_type": "code",
      "metadata": {
        "colab": {
          "base_uri": "https://localhost:8080/"
        },
        "id": "f7jFPH438Vl9",
        "outputId": "d33b61ff-f9df-43a2-e177-244a1ed58607"
      },
      "source": [
        "epochs=200\n",
        "final_losses=[]\n",
        "for i in range(epochs):\n",
        "    i=i+1\n",
        "\n",
        "    y_pred=model1.forward(X_train_f)\n",
        "    loss=loss_function(y_pred,y_train_f)\n",
        "    final_losses.append(loss)\n",
        "    if i%10==1:\n",
        "        print(\"Epoch number: {} and the loss : {}\".format(i,loss.item()))\n",
        "    optimizer.zero_grad()\n",
        "    loss.backward()\n",
        "    optimizer.step()"
      ],
      "execution_count": 35,
      "outputs": [
        {
          "output_type": "stream",
          "text": [
            "Epoch number: 1 and the loss : 2.9987754821777344\n",
            "Epoch number: 11 and the loss : 1.1200330257415771\n",
            "Epoch number: 21 and the loss : 0.23846961557865143\n",
            "Epoch number: 31 and the loss : 0.09612895548343658\n",
            "Epoch number: 41 and the loss : 0.059603139758110046\n",
            "Epoch number: 51 and the loss : 0.0468246191740036\n",
            "Epoch number: 61 and the loss : 0.042678602039813995\n",
            "Epoch number: 71 and the loss : 0.034212224185466766\n",
            "Epoch number: 81 and the loss : 0.03437305986881256\n",
            "Epoch number: 91 and the loss : 0.03383497893810272\n",
            "Epoch number: 101 and the loss : 0.031668297946453094\n",
            "Epoch number: 111 and the loss : 0.027922119945287704\n",
            "Epoch number: 121 and the loss : 0.03245997428894043\n",
            "Epoch number: 131 and the loss : 0.026147153228521347\n",
            "Epoch number: 141 and the loss : 0.025099925696849823\n",
            "Epoch number: 151 and the loss : 0.026091603562235832\n",
            "Epoch number: 161 and the loss : 0.02667851373553276\n",
            "Epoch number: 171 and the loss : 0.025136318057775497\n",
            "Epoch number: 181 and the loss : 0.02143375761806965\n",
            "Epoch number: 191 and the loss : 0.024356108158826828\n"
          ],
          "name": "stdout"
        }
      ]
    },
    {
      "cell_type": "markdown",
      "metadata": {
        "id": "GPwnxlD5QDOA"
      },
      "source": [
        "## Test data performance"
      ]
    },
    {
      "cell_type": "code",
      "metadata": {
        "id": "sWK59Gyjnqc2"
      },
      "source": [
        "y_pred_train = model1.forward(X_train_f)\n",
        "y_pred_train_prob = nn.Softmax(dim=1)(y_pred_train)\n",
        "y_pred_train = y_pred_train_prob.argmax(1)"
      ],
      "execution_count": 36,
      "outputs": []
    },
    {
      "cell_type": "code",
      "metadata": {
        "colab": {
          "base_uri": "https://localhost:8080/"
        },
        "id": "prNK8Ycyp_JA",
        "outputId": "8403cffc-c7fe-4e23-e3ef-c396e64d2ed3"
      },
      "source": [
        "y_pred_train.shape"
      ],
      "execution_count": 37,
      "outputs": [
        {
          "output_type": "execute_result",
          "data": {
            "text/plain": [
              "torch.Size([11314])"
            ]
          },
          "metadata": {
            "tags": []
          },
          "execution_count": 37
        }
      ]
    },
    {
      "cell_type": "code",
      "metadata": {
        "id": "cOOqMxd5QCM0"
      },
      "source": [
        "y_pred_test = model1.forward(X_test_f)\n",
        "y_pred_test_prob = nn.Softmax(dim=1)(y_pred_test)\n",
        "y_pred_test = y_pred_test_prob.argmax(1)"
      ],
      "execution_count": 38,
      "outputs": []
    },
    {
      "cell_type": "code",
      "metadata": {
        "id": "pNFoPRLD8SI6",
        "colab": {
          "base_uri": "https://localhost:8080/"
        },
        "outputId": "2faf9646-d887-44bb-a2d4-58a9b453973b"
      },
      "source": [
        "y_pred_test.shape"
      ],
      "execution_count": 39,
      "outputs": [
        {
          "output_type": "execute_result",
          "data": {
            "text/plain": [
              "torch.Size([7532])"
            ]
          },
          "metadata": {
            "tags": []
          },
          "execution_count": 39
        }
      ]
    },
    {
      "cell_type": "markdown",
      "metadata": {
        "id": "zOnK2pRdrP7U"
      },
      "source": [
        "## Train Accuracy "
      ]
    },
    {
      "cell_type": "code",
      "metadata": {
        "colab": {
          "base_uri": "https://localhost:8080/"
        },
        "id": "LW9yw3h0qgME",
        "outputId": "04c02284-687c-461c-d39d-6ce36cdbd29e"
      },
      "source": [
        "correct_pred_train = (y_pred_train == y_train_f).float()\n",
        "train_acc = correct_pred_train.sum() / len(correct_pred_train)\n",
        "    \n",
        "train_acc = torch.round(train_acc * 100)\n",
        "print('Train accuracy: ', train_acc)"
      ],
      "execution_count": 40,
      "outputs": [
        {
          "output_type": "stream",
          "text": [
            "Train accuracy:  tensor(99.)\n"
          ],
          "name": "stdout"
        }
      ]
    },
    {
      "cell_type": "markdown",
      "metadata": {
        "id": "Jw2a1p1PsZdE"
      },
      "source": [
        "## Train Classification report "
      ]
    },
    {
      "cell_type": "code",
      "metadata": {
        "colab": {
          "base_uri": "https://localhost:8080/"
        },
        "id": "j7WhYtAKsGF3",
        "outputId": "d42683ed-d817-4836-8b42-aa81dc151979"
      },
      "source": [
        "print (classification_report(y_train_f,y_pred_train))"
      ],
      "execution_count": 44,
      "outputs": [
        {
          "output_type": "stream",
          "text": [
            "              precision    recall  f1-score   support\n",
            "\n",
            "           0       1.00      0.99      0.99       480\n",
            "           1       0.99      0.98      0.99       584\n",
            "           2       0.98      0.97      0.98       591\n",
            "           3       0.99      0.99      0.99       590\n",
            "           4       0.99      0.99      0.99       578\n",
            "           5       0.99      1.00      0.99       593\n",
            "           6       0.99      0.98      0.99       585\n",
            "           7       1.00      0.99      0.99       594\n",
            "           8       0.99      1.00      1.00       598\n",
            "           9       0.99      1.00      0.99       597\n",
            "          10       0.99      0.99      0.99       600\n",
            "          11       1.00      0.99      1.00       595\n",
            "          12       0.98      0.99      0.98       591\n",
            "          13       0.99      0.99      0.99       594\n",
            "          14       0.99      1.00      0.99       593\n",
            "          15       0.99      0.99      0.99       599\n",
            "          16       0.99      0.99      0.99       546\n",
            "          17       0.99      0.99      0.99       564\n",
            "          18       1.00      0.99      0.99       465\n",
            "          19       0.99      0.99      0.99       377\n",
            "\n",
            "    accuracy                           0.99     11314\n",
            "   macro avg       0.99      0.99      0.99     11314\n",
            "weighted avg       0.99      0.99      0.99     11314\n",
            "\n"
          ],
          "name": "stdout"
        }
      ]
    },
    {
      "cell_type": "markdown",
      "metadata": {
        "id": "9V-bvmN-sxbh"
      },
      "source": [
        "## Train Confusion matrix"
      ]
    },
    {
      "cell_type": "code",
      "metadata": {
        "id": "Fw2DiiJotNGY"
      },
      "source": [
        ""
      ],
      "execution_count": 44,
      "outputs": []
    },
    {
      "cell_type": "code",
      "metadata": {
        "id": "LDRWo5EVtNDW"
      },
      "source": [
        ""
      ],
      "execution_count": 44,
      "outputs": []
    },
    {
      "cell_type": "code",
      "metadata": {
        "colab": {
          "base_uri": "https://localhost:8080/",
          "height": 554
        },
        "id": "O5pdOOHqs3HK",
        "outputId": "722c26d2-aa88-43d3-ea86-91a5b8c61433"
      },
      "source": [
        "confusion_matrix_df = pd.DataFrame(confusion_matrix(y_train_f, y_pred_train))\n",
        "plt.figure(figsize = (16,9))\n",
        "\n",
        "sns.heatmap(confusion_matrix_df, annot=True, linewidths=.9)"
      ],
      "execution_count": 45,
      "outputs": [
        {
          "output_type": "execute_result",
          "data": {
            "text/plain": [
              "<matplotlib.axes._subplots.AxesSubplot at 0x7f0f97a4bad0>"
            ]
          },
          "metadata": {
            "tags": []
          },
          "execution_count": 45
        },
        {
          "output_type": "display_data",
          "data": {
            "image/png": "[encoded data removed]",
            "text/plain": [
              "<Figure size 1152x648 with 2 Axes>"
            ]
          },
          "metadata": {
            "tags": [],
            "needs_background": "light"
          }
        }
      ]
    },
    {
      "cell_type": "markdown",
      "metadata": {
        "id": "YtEVBu3ord_q"
      },
      "source": [
        "## Test Accuracy"
      ]
    },
    {
      "cell_type": "code",
      "metadata": {
        "colab": {
          "base_uri": "https://localhost:8080/"
        },
        "id": "XWRIjXm0rBy5",
        "outputId": "6eef4fa1-da86-49a7-cf58-231147c750cd"
      },
      "source": [
        "correct_pred_test = (y_pred_test == y_test_f).float()\n",
        "test_acc = correct_pred_test.sum() / len(correct_pred_test)\n",
        "    \n",
        "test_acc = torch.round(test_acc * 100)\n",
        "print('Test accuracy: ', test_acc)"
      ],
      "execution_count": 46,
      "outputs": [
        {
          "output_type": "stream",
          "text": [
            "Test accuracy:  tensor(77.)\n"
          ],
          "name": "stdout"
        }
      ]
    },
    {
      "cell_type": "markdown",
      "metadata": {
        "id": "Jdpynp9qsenF"
      },
      "source": [
        "## Test Classification report "
      ]
    },
    {
      "cell_type": "code",
      "metadata": {
        "colab": {
          "base_uri": "https://localhost:8080/"
        },
        "id": "MtzZQWUxshXs",
        "outputId": "8166a2fb-39cb-49b1-e828-0abe0ab1b07c"
      },
      "source": [
        "print (classification_report(y_test_f,y_pred_test))"
      ],
      "execution_count": 47,
      "outputs": [
        {
          "output_type": "stream",
          "text": [
            "              precision    recall  f1-score   support\n",
            "\n",
            "           0       0.83      0.70      0.76       319\n",
            "           1       0.64      0.63      0.64       389\n",
            "           2       0.68      0.62      0.65       394\n",
            "           3       0.59      0.66      0.62       392\n",
            "           4       0.69      0.74      0.71       385\n",
            "           5       0.74      0.73      0.73       395\n",
            "           6       0.75      0.78      0.76       390\n",
            "           7       0.81      0.78      0.79       396\n",
            "           8       0.86      0.90      0.88       398\n",
            "           9       0.86      0.86      0.86       397\n",
            "          10       0.88      0.95      0.91       399\n",
            "          11       0.90      0.86      0.88       396\n",
            "          12       0.67      0.68      0.68       393\n",
            "          13       0.80      0.77      0.79       396\n",
            "          14       0.88      0.89      0.88       394\n",
            "          15       0.78      0.87      0.82       398\n",
            "          16       0.75      0.84      0.79       364\n",
            "          17       0.94      0.79      0.86       376\n",
            "          18       0.72      0.63      0.67       310\n",
            "          19       0.60      0.59      0.60       251\n",
            "\n",
            "    accuracy                           0.77      7532\n",
            "   macro avg       0.77      0.76      0.76      7532\n",
            "weighted avg       0.77      0.77      0.77      7532\n",
            "\n"
          ],
          "name": "stdout"
        }
      ]
    },
    {
      "cell_type": "code",
      "metadata": {
        "colab": {
          "base_uri": "https://localhost:8080/",
          "height": 554
        },
        "id": "vTu8QQhYtxgW",
        "outputId": "49baf0ea-107d-4aed-e565-a16d8003dd7d"
      },
      "source": [
        "confusion_matrix_df_test = pd.DataFrame(confusion_matrix(y_test_f, y_pred_test))\n",
        "plt.figure(figsize = (16,9))\n",
        "sns.heatmap(confusion_matrix_df_test, annot=True, linewidths=.9)"
      ],
      "execution_count": 48,
      "outputs": [
        {
          "output_type": "execute_result",
          "data": {
            "text/plain": [
              "<matplotlib.axes._subplots.AxesSubplot at 0x7f0f988e4750>"
            ]
          },
          "metadata": {
            "tags": []
          },
          "execution_count": 48
        },
        {
          "output_type": "display_data",
          "data": {
            "image/png": "[encoded data removed]",
            "text/plain": [
              "<Figure size 1152x648 with 2 Axes>"
            ]
          },
          "metadata": {
            "tags": [],
            "needs_background": "light"
          }
        }
      ]
    },
    {
      "cell_type": "markdown",
      "metadata": {
        "id": "_1qYE7u7eGsy"
      },
      "source": [
        "#Deep Layer Model building in Keras"
      ]
    },
    {
      "cell_type": "code",
      "metadata": {
        "id": "UpK-Edx5eF6Z",
        "colab": {
          "base_uri": "https://localhost:8080/"
        },
        "outputId": "aba52601-a7f5-40c8-92ac-bff2e6deb23a"
      },
      "source": [
        "model = Sequential()\n",
        "model.add(Dense(1000,input_shape= (10000,)))\n",
        "model.add(Activation('relu'))\n",
        "model.add(Dropout(0.5))\n",
        "model.add(Dense(500))\n",
        "model.add(Activation('relu'))\n",
        "model.add(Dropout(0.5))\n",
        "model.add(Dense(50))\n",
        "model.add(Activation('relu'))\n",
        "model.add(Dropout(0.5))\n",
        "model.add(Dense(nb_classes))\n",
        "model.add(Activation('softmax'))\n",
        "model.compile(loss='categorical_crossentropy', optimizer='adam')\n",
        "print (model.summary())"
      ],
      "execution_count": 49,
      "outputs": [
        {
          "output_type": "stream",
          "text": [
            "Model: \"sequential\"\n",
            "_________________________________________________________________\n",
            "Layer (type)                 Output Shape              Param #   \n",
            "=================================================================\n",
            "dense (Dense)                (None, 1000)              10001000  \n",
            "_________________________________________________________________\n",
            "activation (Activation)      (None, 1000)              0         \n",
            "_________________________________________________________________\n",
            "dropout (Dropout)            (None, 1000)              0         \n",
            "_________________________________________________________________\n",
            "dense_1 (Dense)              (None, 500)               500500    \n",
            "_________________________________________________________________\n",
            "activation_1 (Activation)    (None, 500)               0         \n",
            "_________________________________________________________________\n",
            "dropout_1 (Dropout)          (None, 500)               0         \n",
            "_________________________________________________________________\n",
            "dense_2 (Dense)              (None, 50)                25050     \n",
            "_________________________________________________________________\n",
            "activation_2 (Activation)    (None, 50)                0         \n",
            "_________________________________________________________________\n",
            "dropout_2 (Dropout)          (None, 50)                0         \n",
            "_________________________________________________________________\n",
            "dense_3 (Dense)              (None, 20)                1020      \n",
            "_________________________________________________________________\n",
            "activation_3 (Activation)    (None, 20)                0         \n",
            "=================================================================\n",
            "Total params: 10,527,570\n",
            "Trainable params: 10,527,570\n",
            "Non-trainable params: 0\n",
            "_________________________________________________________________\n",
            "None\n"
          ],
          "name": "stdout"
        }
      ]
    },
    {
      "cell_type": "markdown",
      "metadata": {
        "id": "gi9BsKLmeXi5"
      },
      "source": [
        "# Start training "
      ]
    },
    {
      "cell_type": "code",
      "metadata": {
        "id": "K3NQhmNUeR7C",
        "colab": {
          "base_uri": "https://localhost:8080/"
        },
        "outputId": "09082a0f-a8db-45b7-e7d7-2b40fcb665ee"
      },
      "source": [
        "model.fit(x_train_2, Y_train, batch_size=batch_size,\n",
        "epochs=nb_epochs,verbose=1)"
      ],
      "execution_count": 50,
      "outputs": [
        {
          "output_type": "stream",
          "text": [
            "Epoch 1/20\n",
            "177/177 [==============================] - 16s 89ms/step - loss: 2.5683\n",
            "Epoch 2/20\n",
            "177/177 [==============================] - 16s 89ms/step - loss: 0.6849\n",
            "Epoch 3/20\n",
            "177/177 [==============================] - 16s 89ms/step - loss: 0.3267\n",
            "Epoch 4/20\n",
            "177/177 [==============================] - 16s 89ms/step - loss: 0.1820\n",
            "Epoch 5/20\n",
            "177/177 [==============================] - 16s 89ms/step - loss: 0.1252\n",
            "Epoch 6/20\n",
            "177/177 [==============================] - 16s 89ms/step - loss: 0.0911\n",
            "Epoch 7/20\n",
            "177/177 [==============================] - 16s 89ms/step - loss: 0.0635\n",
            "Epoch 8/20\n",
            "177/177 [==============================] - 16s 89ms/step - loss: 0.0569\n",
            "Epoch 9/20\n",
            "177/177 [==============================] - 16s 88ms/step - loss: 0.0543\n",
            "Epoch 10/20\n",
            "177/177 [==============================] - 16s 89ms/step - loss: 0.0425\n",
            "Epoch 11/20\n",
            "177/177 [==============================] - 16s 89ms/step - loss: 0.0373\n",
            "Epoch 12/20\n",
            "177/177 [==============================] - 16s 89ms/step - loss: 0.0310\n",
            "Epoch 13/20\n",
            "177/177 [==============================] - 16s 89ms/step - loss: 0.0310\n",
            "Epoch 14/20\n",
            "177/177 [==============================] - 16s 89ms/step - loss: 0.0315\n",
            "Epoch 15/20\n",
            "177/177 [==============================] - 16s 89ms/step - loss: 0.0309\n",
            "Epoch 16/20\n",
            "177/177 [==============================] - 16s 89ms/step - loss: 0.0241\n",
            "Epoch 17/20\n",
            "177/177 [==============================] - 16s 89ms/step - loss: 0.0260\n",
            "Epoch 18/20\n",
            "177/177 [==============================] - 16s 89ms/step - loss: 0.0208\n",
            "Epoch 19/20\n",
            "177/177 [==============================] - 16s 89ms/step - loss: 0.0184\n",
            "Epoch 20/20\n",
            "177/177 [==============================] - 16s 89ms/step - loss: 0.0263\n"
          ],
          "name": "stdout"
        },
        {
          "output_type": "execute_result",
          "data": {
            "text/plain": [
              "<tensorflow.python.keras.callbacks.History at 0x7f0f96113090>"
            ]
          },
          "metadata": {
            "tags": []
          },
          "execution_count": 50
        }
      ]
    },
    {
      "cell_type": "markdown",
      "metadata": {
        "id": "uDSMSd-TewYZ"
      },
      "source": [
        "#Model Prediction\n"
      ]
    },
    {
      "cell_type": "code",
      "metadata": {
        "id": "XswdL0rvebVY"
      },
      "source": [
        "y_train_predclass = model.(x_train_2,batch_size=batch_size)\n",
        "y_test_predclass = model.predict_classes(x_test_2,batch_size=batch_size)\n",
        "from sklearn.metrics import accuracy_score,classification_report"
      ],
      "execution_count": null,
      "outputs": []
    },
    {
      "cell_type": "code",
      "metadata": {
        "id": "YqAavyHofULr"
      },
      "source": [
        "print (\"\\n\\nDeep Neural Network - Train accuracy:\"),\n",
        "(round(accuracy_score( y_train, y_train_predclass),3))"
      ],
      "execution_count": null,
      "outputs": []
    },
    {
      "cell_type": "code",
      "metadata": {
        "id": "ekrTJmerfY5q"
      },
      "source": [
        "print (\"\\nDeep Neural Network - Test accuracy:\")\n",
        "(round(accuracy_score(y_test,y_test_predclass),3))"
      ],
      "execution_count": null,
      "outputs": []
    },
    {
      "cell_type": "code",
      "metadata": {
        "id": "Rq3HrrZ4fdKR"
      },
      "source": [
        "print (\"\\nDeep Neural Network - Train Classification Report\")\n",
        "print (classification_report(y_train,y_train_predclass))"
      ],
      "execution_count": null,
      "outputs": []
    },
    {
      "cell_type": "code",
      "metadata": {
        "id": "TFHA_jwjqo4M"
      },
      "source": [
        ""
      ],
      "execution_count": null,
      "outputs": []
    },
    {
      "cell_type": "code",
      "metadata": {
        "id": "8MfehLQOqo6i"
      },
      "source": [
        ""
      ],
      "execution_count": null,
      "outputs": []
    },
    {
      "cell_type": "code",
      "metadata": {
        "id": "CwoVXB_Zfg4q"
      },
      "source": [
        "print (\"\\nDeep Neural Network - Test Classification Report\")\n",
        "print (classification_report(y_test,y_test_predclass))"
      ],
      "execution_count": null,
      "outputs": []
    },
    {
      "cell_type": "code",
      "metadata": {
        "id": "go3_P7hyfg3a"
      },
      "source": [
        ""
      ],
      "execution_count": null,
      "outputs": []
    }
  ]
}