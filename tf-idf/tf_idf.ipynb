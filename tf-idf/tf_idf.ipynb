{
  "nbformat": 4,
  "nbformat_minor": 0,
  "metadata": {
    "colab": {
      "name": "tf-idf.ipynb",
      "provenance": []
    },
    "kernelspec": {
      "name": "python3",
      "display_name": "Python 3"
    },
    "language_info": {
      "name": "python"
    }
  },
  "cells": [
    {
      "cell_type": "code",
      "metadata": {
        "id": "1251ZApjlnLX"
      },
      "source": [
        "from sklearn.feature_extraction.text import CountVectorizer, TfidfVectorizer"
      ],
      "execution_count": 2,
      "outputs": []
    },
    {
      "cell_type": "code",
      "metadata": {
        "id": "1QcMX5e7lzAM"
      },
      "source": [
        "sentence = ['I have a credit card account', 'My account card, debit card is lost', 'My credit card stopped working']"
      ],
      "execution_count": 3,
      "outputs": []
    },
    {
      "cell_type": "code",
      "metadata": {
        "colab": {
          "base_uri": "https://localhost:8080/"
        },
        "id": "_iKRlHg8mPsI",
        "outputId": "23396b68-0c37-4e86-bc06-08fe125b4e83"
      },
      "source": [
        "sentence"
      ],
      "execution_count": 4,
      "outputs": [
        {
          "output_type": "execute_result",
          "data": {
            "text/plain": [
              "['I have a credit card account',\n",
              " 'My account card, debit card is lost',\n",
              " 'My credit card stopped working']"
            ]
          },
          "metadata": {
            "tags": []
          },
          "execution_count": 4
        }
      ]
    },
    {
      "cell_type": "code",
      "metadata": {
        "id": "QY74jm3ImQew"
      },
      "source": [
        "vecotizer = CountVectorizer()\n",
        "countvectorizer = vecotizer.fit_transform(sentence)"
      ],
      "execution_count": 8,
      "outputs": []
    },
    {
      "cell_type": "code",
      "metadata": {
        "colab": {
          "base_uri": "https://localhost:8080/"
        },
        "id": "pygqKQ04mYqB",
        "outputId": "12b82e20-13cf-4291-e181-8b8450a8c43b"
      },
      "source": [
        "countvectorizer.A"
      ],
      "execution_count": 10,
      "outputs": [
        {
          "output_type": "execute_result",
          "data": {
            "text/plain": [
              "array([[1, 1, 1, 0, 1, 0, 0, 0, 0, 0],\n",
              "       [1, 2, 0, 1, 0, 1, 1, 1, 0, 0],\n",
              "       [0, 1, 1, 0, 0, 0, 0, 1, 1, 1]])"
            ]
          },
          "metadata": {
            "tags": []
          },
          "execution_count": 10
        }
      ]
    },
    {
      "cell_type": "code",
      "metadata": {
        "id": "4mgWpgQTmgPz"
      },
      "source": [
        "# dir(countvectorizer)"
      ],
      "execution_count": 12,
      "outputs": []
    },
    {
      "cell_type": "code",
      "metadata": {
        "colab": {
          "base_uri": "https://localhost:8080/"
        },
        "id": "y_C-91gPm4no",
        "outputId": "d935f9ae-6bb8-4772-cc69-0ab7cd9e731c"
      },
      "source": [
        "vecotizer.get_feature_names()"
      ],
      "execution_count": 18,
      "outputs": [
        {
          "output_type": "execute_result",
          "data": {
            "text/plain": [
              "['account',\n",
              " 'card',\n",
              " 'credit',\n",
              " 'debit',\n",
              " 'have',\n",
              " 'is',\n",
              " 'lost',\n",
              " 'my',\n",
              " 'stopped',\n",
              " 'working']"
            ]
          },
          "metadata": {
            "tags": []
          },
          "execution_count": 18
        }
      ]
    },
    {
      "cell_type": "code",
      "metadata": {
        "id": "MW4oL7XAnJhs"
      },
      "source": [
        "vecotizer = CountVectorizer(max_features=4)\n",
        "countvectorizer = vecotizer.fit_transform(sentence)"
      ],
      "execution_count": 19,
      "outputs": []
    },
    {
      "cell_type": "code",
      "metadata": {
        "colab": {
          "base_uri": "https://localhost:8080/"
        },
        "id": "KCjyvw1qn8Ax",
        "outputId": "80e974c1-b8dd-4d42-e66b-dc14da6728a6"
      },
      "source": [
        "vecotizer.get_feature_names()"
      ],
      "execution_count": 20,
      "outputs": [
        {
          "output_type": "execute_result",
          "data": {
            "text/plain": [
              "['account', 'card', 'credit', 'my']"
            ]
          },
          "metadata": {
            "tags": []
          },
          "execution_count": 20
        }
      ]
    },
    {
      "cell_type": "code",
      "metadata": {
        "colab": {
          "base_uri": "https://localhost:8080/"
        },
        "id": "vETbu8-6oA1W",
        "outputId": "39824de4-5052-45d3-c7ad-70bdb2010a4f"
      },
      "source": [
        "countvectorizer.A"
      ],
      "execution_count": 21,
      "outputs": [
        {
          "output_type": "execute_result",
          "data": {
            "text/plain": [
              "array([[1, 1, 1, 0],\n",
              "       [1, 2, 0, 1],\n",
              "       [0, 1, 1, 1]])"
            ]
          },
          "metadata": {
            "tags": []
          },
          "execution_count": 21
        }
      ]
    },
    {
      "cell_type": "code",
      "metadata": {
        "id": "eSnjjJDpoieE"
      },
      "source": [
        "vecotizer = TfidfVectorizer(use_idf=False, norm='l1')\n",
        "countvectorizer = vecotizer.fit_transform(sentence)"
      ],
      "execution_count": 22,
      "outputs": []
    },
    {
      "cell_type": "code",
      "metadata": {
        "colab": {
          "base_uri": "https://localhost:8080/"
        },
        "id": "Gmyzz5zDoo4B",
        "outputId": "271dc0f4-2605-4d66-b7b9-2fc60eb65302"
      },
      "source": [
        "countvectorizer.A"
      ],
      "execution_count": 23,
      "outputs": [
        {
          "output_type": "execute_result",
          "data": {
            "text/plain": [
              "array([[0.25      , 0.25      , 0.25      , 0.        , 0.25      ,\n",
              "        0.        , 0.        , 0.        , 0.        , 0.        ],\n",
              "       [0.14285714, 0.28571429, 0.        , 0.14285714, 0.        ,\n",
              "        0.14285714, 0.14285714, 0.14285714, 0.        , 0.        ],\n",
              "       [0.        , 0.2       , 0.2       , 0.        , 0.        ,\n",
              "        0.        , 0.        , 0.2       , 0.2       , 0.2       ]])"
            ]
          },
          "metadata": {
            "tags": []
          },
          "execution_count": 23
        }
      ]
    },
    {
      "cell_type": "code",
      "metadata": {
        "colab": {
          "base_uri": "https://localhost:8080/"
        },
        "id": "-28w3HLforDX",
        "outputId": "677fc47e-1fb6-43d4-b557-18dab4af442c"
      },
      "source": [
        "vecotizer.get_feature_names()"
      ],
      "execution_count": 24,
      "outputs": [
        {
          "output_type": "execute_result",
          "data": {
            "text/plain": [
              "['account',\n",
              " 'card',\n",
              " 'credit',\n",
              " 'debit',\n",
              " 'have',\n",
              " 'is',\n",
              " 'lost',\n",
              " 'my',\n",
              " 'stopped',\n",
              " 'working']"
            ]
          },
          "metadata": {
            "tags": []
          },
          "execution_count": 24
        }
      ]
    },
    {
      "cell_type": "code",
      "metadata": {
        "id": "NMvwcjaZouTe"
      },
      "source": [
        "vecotizer = TfidfVectorizer(use_idf=False, norm='l2')\n",
        "countvectorizer = vecotizer.fit_transform(sentence)"
      ],
      "execution_count": 25,
      "outputs": []
    },
    {
      "cell_type": "code",
      "metadata": {
        "colab": {
          "base_uri": "https://localhost:8080/"
        },
        "id": "0wufsvFxpEKf",
        "outputId": "7f4d0153-a6a9-451e-8075-c06cb089a325"
      },
      "source": [
        "countvectorizer.A"
      ],
      "execution_count": 26,
      "outputs": [
        {
          "output_type": "execute_result",
          "data": {
            "text/plain": [
              "array([[0.5       , 0.5       , 0.5       , 0.        , 0.5       ,\n",
              "        0.        , 0.        , 0.        , 0.        , 0.        ],\n",
              "       [0.33333333, 0.66666667, 0.        , 0.33333333, 0.        ,\n",
              "        0.33333333, 0.33333333, 0.33333333, 0.        , 0.        ],\n",
              "       [0.        , 0.4472136 , 0.4472136 , 0.        , 0.        ,\n",
              "        0.        , 0.        , 0.4472136 , 0.4472136 , 0.4472136 ]])"
            ]
          },
          "metadata": {
            "tags": []
          },
          "execution_count": 26
        }
      ]
    },
    {
      "cell_type": "code",
      "metadata": {
        "colab": {
          "base_uri": "https://localhost:8080/"
        },
        "id": "vmyZpQjbpGWw",
        "outputId": "13e4f627-3ce7-4634-974b-09ee32d8cd28"
      },
      "source": [
        "vecotizer.get_feature_names()"
      ],
      "execution_count": 27,
      "outputs": [
        {
          "output_type": "execute_result",
          "data": {
            "text/plain": [
              "['account',\n",
              " 'card',\n",
              " 'credit',\n",
              " 'debit',\n",
              " 'have',\n",
              " 'is',\n",
              " 'lost',\n",
              " 'my',\n",
              " 'stopped',\n",
              " 'working']"
            ]
          },
          "metadata": {
            "tags": []
          },
          "execution_count": 27
        }
      ]
    },
    {
      "cell_type": "code",
      "metadata": {
        "id": "H03FntrbpIVp"
      },
      "source": [
        "vecotizer = TfidfVectorizer()\n",
        "countvectorizer = vecotizer.fit_transform(sentence)"
      ],
      "execution_count": 28,
      "outputs": []
    },
    {
      "cell_type": "code",
      "metadata": {
        "colab": {
          "base_uri": "https://localhost:8080/"
        },
        "id": "4RWMGYnWpOLJ",
        "outputId": "603bd48b-c3b6-421a-ac8b-b6c3f3267ce3"
      },
      "source": [
        "countvectorizer.A"
      ],
      "execution_count": 29,
      "outputs": [
        {
          "output_type": "execute_result",
          "data": {
            "text/plain": [
              "array([[0.4804584 , 0.37311881, 0.4804584 , 0.        , 0.63174505,\n",
              "        0.        , 0.        , 0.        , 0.        , 0.        ],\n",
              "       [0.32276391, 0.50130994, 0.        , 0.42439575, 0.        ,\n",
              "        0.42439575, 0.42439575, 0.32276391, 0.        , 0.        ],\n",
              "       [0.        , 0.31544415, 0.40619178, 0.        , 0.        ,\n",
              "        0.        , 0.        , 0.40619178, 0.53409337, 0.53409337]])"
            ]
          },
          "metadata": {
            "tags": []
          },
          "execution_count": 29
        }
      ]
    },
    {
      "cell_type": "code",
      "metadata": {
        "colab": {
          "base_uri": "https://localhost:8080/"
        },
        "id": "YLJWe-FjpQV2",
        "outputId": "a5bf32d6-febf-454d-a09a-b65558585d37"
      },
      "source": [
        "vecotizer.get_feature_names()"
      ],
      "execution_count": 30,
      "outputs": [
        {
          "output_type": "execute_result",
          "data": {
            "text/plain": [
              "['account',\n",
              " 'card',\n",
              " 'credit',\n",
              " 'debit',\n",
              " 'have',\n",
              " 'is',\n",
              " 'lost',\n",
              " 'my',\n",
              " 'stopped',\n",
              " 'working']"
            ]
          },
          "metadata": {
            "tags": []
          },
          "execution_count": 30
        }
      ]
    },
    {
      "cell_type": "markdown",
      "metadata": {
        "id": "LO68Rkbep59l"
      },
      "source": [
        "ref: https://www.youtube.com/watch?v=RcI3uAlWAtY"
      ]
    },
    {
      "cell_type": "code",
      "metadata": {
        "id": "z_cQh2TLpSuI"
      },
      "source": [
        ""
      ],
      "execution_count": null,
      "outputs": []
    }
  ]
}